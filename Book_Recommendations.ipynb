version https://git-lfs.github.com/spec/v1
oid sha256:2d140995717fe791f2c32eb40deaab44f6d8492178ce5be99994dabab05c7e25
size 71188
